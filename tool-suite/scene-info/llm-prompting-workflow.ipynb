{
 "cells": [
  {
   "cell_type": "code",
   "execution_count": 1,
   "id": "94f56cd7",
   "metadata": {},
   "outputs": [],
   "source": [
    "# DEPENDENCIES\n",
    "# LANGGRAPH\n",
    "# OLLAMA\n",
    "\n",
    "from langgraph.graph import START, END, StateGraph\n",
    "from typing_extensions import TypedDict\n",
    "from IPython.display import Image, display, SVG\n",
    "from langchain_core.runnables.graph import CurveStyle, MermaidDrawMethod, NodeStyles\n",
    "import ollama"
   ]
  },
  {
   "cell_type": "code",
   "execution_count": 2,
   "id": "77569585",
   "metadata": {},
   "outputs": [],
   "source": [
    "# Function to query from LLAVA using an image\n",
    "def generate_text_from_image(instruction, file_path, system_prompt, model='llava'):\n",
    "    result = ollama.generate(\n",
    "        model=model,\n",
    "        prompt=instruction,\n",
    "        system=system_prompt,\n",
    "        images=[file_path],\n",
    "        stream=False\n",
    "    )['response']\n",
    "    return result\n",
    "\n",
    "# Function to query llama3 using text\n",
    "def generate_llama_response(instruction, system_prompt, model='llama3'):\n",
    "    result = ollama.generate(\n",
    "        model=model,\n",
    "        prompt=instruction,\n",
    "        system=system_prompt,\n",
    "        stream=False\n",
    "    )['response']\n",
    "    return result\n"
   ]
  },
  {
   "cell_type": "code",
   "execution_count": 3,
   "id": "8abda72b",
   "metadata": {},
   "outputs": [
    {
     "name": "stdout",
     "output_type": "stream",
     "text": [
      " The image shows a vintage sports car, specifically a Porsche 914 Targa, parked in front of a theater building with a marquee sign that reads \"LÜTZEI STOCK\". The car is in a classic black color and appears to be in good condition. There's a sign on the car that says \"TURBO SO\", which could suggest the car's tuning or brand affiliation, but without more context, it's hard to determine its significance. The building has an awning and what looks like a green banner with white text, which is not fully legible due to the angle of the photo. The background suggests an urban setting with a sidewalk lined with buildings that have a vintage architectural style. \n"
     ]
    }
   ],
   "source": [
    "# test llava is working\n",
    "prompt =\"{'prompt': 'Return a description of what is going on in this photo'}\"\n",
    "\n",
    "system_prompt = f\"\"\"\n",
    "        You are an FBI investigator. Please provide as many details as possible to describe whats going in this photo for investigation.\n",
    "    \"\"\"\n",
    "    \n",
    "image_description = generate_text_from_image(prompt,\"car-image.jpg\", system_prompt)\n",
    "print(image_description)"
   ]
  },
  {
   "cell_type": "code",
   "execution_count": 4,
   "id": "f2c08261",
   "metadata": {},
   "outputs": [
    {
     "name": "stdout",
     "output_type": "stream",
     "text": [
      "My inquisitive student, you're asking about one of the most fundamental and fascinating questions in the field of atmospheric science!\n",
      "\n",
      "The answer lies in the fascinating world of light scattering. When sunlight enters Earth's atmosphere, it encounters tiny molecules of gases like nitrogen (N2) and oxygen (O2). These molecules scatter the shorter, blue wavelengths of light more than the longer, red wavelengths.\n",
      "\n",
      "This phenomenon is known as Rayleigh scattering, named after the British physicist Lord Rayleigh, who first described it in the late 19th century. The shorter wavelengths are scattered in all directions by the smaller molecules, making them visible to our eyes from the ground.\n",
      "\n",
      "Now, you might wonder why the blue light isn't equally distributed throughout the sky. That's where another factor comes into play: aerosols and atmospheric particles. Tiny particles like pollutants, dust, and water vapor can absorb or scatter certain wavelengths of light, affecting the overall color of the sky.\n",
      "\n",
      "In reality, the blue color we see is a result of a delicate balance between the scattering of shorter wavelengths by molecules and the absorption/scattering of those wavelengths by aerosols and atmospheric particles. The exact shade of blue depends on various factors like the amount of water vapor, pollutants, and cloud cover in the atmosphere.\n",
      "\n",
      "So, my curious student, that's why the sky appears blue to us! It's a stunning example of how the interplay between light, matter, and the atmosphere creates the breathtaking beauty we experience daily.\n"
     ]
    }
   ],
   "source": [
    "# test llama3.1 works\n",
    "prompt =\"{'prompt': 'Why is the sky blue'}\"\n",
    "\n",
    "system_prompt = f\"\"\"\n",
    "        You are a professor at a university studying climate change\n",
    "    \"\"\"\n",
    "    \n",
    "llama_response = generate_llama_response(prompt,system_prompt)\n",
    "print(llama_response)"
   ]
  },
  {
   "cell_type": "markdown",
   "id": "4e1edf57",
   "metadata": {},
   "source": [
    "# Generate State and Langgraph Nodes"
   ]
  },
  {
   "cell_type": "code",
   "execution_count": 5,
   "id": "ef03a9a5",
   "metadata": {},
   "outputs": [],
   "source": [
    "# Create graph State\n",
    "class GraphState(TypedDict):\n",
    "    \"\"\"\n",
    "    Represents the state of our graph.\n",
    "\n",
    "    Attributes:\n",
    "        image_path: Location of where image is located\n",
    "        image_response: Description\n",
    "    \"\"\"\n",
    "    image_path: str\n",
    "    image_response: str\n",
    "    questions: str\n",
    "    questions_answered: str\n",
    "#     end: int\n"
   ]
  },
  {
   "cell_type": "markdown",
   "id": "0e167841",
   "metadata": {},
   "source": [
    "# Generate Langgraph Nodes"
   ]
  },
  {
   "cell_type": "code",
   "execution_count": 6,
   "id": "ef2a956b",
   "metadata": {},
   "outputs": [],
   "source": [
    "def describe_image(state):\n",
    "    \n",
    "    prompt =\"{'prompt': ''}\"\n",
    "\n",
    "    system_prompt = f\"\"\"\n",
    "        Where is this image located? \n",
    "        Are there any people in this image? \n",
    "        If so, describe them. \n",
    "        Is this image indoors or outdoors? \n",
    "        Where is the image located? \n",
    "        Is there any text in this image? \n",
    "        If so, what does it say and what does that signify? \n",
    "        Are there any unique identifying features?\n",
    "    \"\"\"   \n",
    "    \n",
    "    image_description = generate_text_from_image(prompt,state[\"image_path\"], system_prompt)\n",
    "    \n",
    "    print(\"STEP 1: IMAGE DESCRIPTION\\n\")\n",
    "    print(image_description + \"\\n\")\n",
    "\n",
    "    return {\"image_response\": image_description}\n",
    "\n",
    "\n",
    "def generate_questions(state):\n",
    "    \n",
    "    prompt = f\"{{'prompt': '{state['image_response']}'}}\"\n",
    "\n",
    "    system_prompt = f\"\"\"\n",
    "        You are an FBI investigator. \n",
    "        \n",
    "        Given a description of an image you are to generate a list of questions to \n",
    "        clarify details that need to be further investigated. Respond with a numbered\n",
    "        list of questions\n",
    "    \"\"\"   \n",
    "    \n",
    "    questions = generate_llama_response(prompt, system_prompt)\n",
    "    \n",
    "    print(\"STEP 2: GENERATED QUESTIONS\\n\")\n",
    "    print(questions +\"\\n\")\n",
    "\n",
    "    return {\"questions\": questions}\n",
    "\n",
    "def answer_questions_with_image(state):\n",
    "    \n",
    "    prompt = f\"{{'prompt': '{state['questions']}'}}\"\n",
    "\n",
    "    system_prompt = f\"\"\"\n",
    "        You are an FBI investigator. \n",
    "        \n",
    "        Given a list of questions describing a photo. Answer the questions to the best of your ability\n",
    "        describing which part of the image you are basing your conclusion off of.\n",
    "        Try your best to give an answer but also express if you are unsure.  DO NOT HALLUCINATE\n",
    "    \"\"\"   \n",
    "    \n",
    "    answers = generate_text_from_image(prompt, state[\"image_path\"], system_prompt)\n",
    "    \n",
    "    print(\"STEP 3: ANSWER QUESTIONS\\n\")\n",
    "    print(answers + \"\\n\")\n",
    "\n",
    "    return {\"questions_answered\": answers}"
   ]
  },
  {
   "cell_type": "markdown",
   "id": "454b23c7",
   "metadata": {},
   "source": [
    "# Build Graph"
   ]
  },
  {
   "cell_type": "code",
   "execution_count": 7,
   "id": "7e8e0884",
   "metadata": {},
   "outputs": [],
   "source": [
    "workflow = StateGraph(GraphState)\n",
    "\n",
    "# Add nodes\n",
    "workflow.add_node(\"describe_image\", describe_image)\n",
    "workflow.add_node(\"generated_questions\", generate_questions)\n",
    "workflow.add_node(\"answer_questions_with_image\", answer_questions_with_image)\n",
    "\n",
    "# Add edges\n",
    "workflow.add_edge(START, \"describe_image\")\n",
    "workflow.add_edge(\"describe_image\", \"generated_questions\")\n",
    "workflow.add_edge(\"generated_questions\",\"answer_questions_with_image\")\n",
    "workflow.add_edge(\"answer_questions_with_image\", END)\n",
    "\n",
    "app = workflow.compile()"
   ]
  },
  {
   "cell_type": "code",
   "execution_count": 8,
   "id": "994e9e1e",
   "metadata": {},
   "outputs": [
    {
     "data": {
      "image/jpeg": "[encoded data removed]",
      "text/plain": [
       "<IPython.core.display.Image object>"
      ]
     },
     "metadata": {},
     "output_type": "display_data"
    }
   ],
   "source": [
    "# visualize graph\n",
    "display(Image(app.get_graph().draw_mermaid_png()))"
   ]
  },
  {
   "cell_type": "code",
   "execution_count": 9,
   "id": "f46189f5",
   "metadata": {
    "scrolled": false
   },
   "outputs": [
    {
     "name": "stdout",
     "output_type": "stream",
     "text": [
      "STEP 1: IMAGE DESCRIPTION\n",
      "\n",
      " The image shows a vintage Porsche parked in front of a theater with the marquee \"Lüttenberg\" and a name \"Luftbühler 1960.\" Above the door, there's a sign that reads \"TURBO 50\" which likely refers to a model or feature of the vehicle. The Porsche is a classic model with distinct round headlights, a long hood, and a sporty design typical of cars from the 1960s. The setting suggests a nostalgic or promotional event related to the vintage vehicle. The background shows an urban street scene with a building that resembles a theater, featuring a marquee with German text, which could indicate a German-themed venue or a performance by a German artist. \n",
      "\n",
      "STEP 2: GENERATED QUESTIONS\n",
      "\n",
      "Here's a list of questions to clarify details that need further investigation:\n",
      "\n",
      "1. What is the exact model and year of the vintage Porsche, considering its distinctive round headlights, long hood, and sporty design?\n",
      "2. Can you confirm if \"TURBO 50\" refers to a specific feature or model of the vehicle, and what does it signify in this context?\n",
      "3. Is the \"Lüttenberg\" marquee and name \"Luftbühler 1960\" related to the vintage car event, or is it promoting a performance or artist?\n",
      "4. Can you provide more information about the building with the German-text marquee in the background? Is it an actual theater, or a prop/stage set?\n",
      "5. Are there any other details visible in the image that might provide context, such as people, objects, or signage around the car and theater?\n",
      "6. Is the setting intended to evoke nostalgia for the 1960s era, or is this a genuine event from that time period?\n",
      "7. Can you confirm if the Porsche is parked on an urban street, or is it part of a larger event setup (e.g., a festival, exhibition)?\n",
      "8. Are there any other clues in the image that might suggest the purpose of the event (e.g., car show, film premiere, concert)?\n",
      "9. Is the \"TURBO 50\" sign and the \"Luftbühler 1960\" nameplate intentionally designed to look vintage or retro-style?\n",
      "10. Are there any other questions or details you'd like to investigate further?\n",
      "\n",
      "These questions aim to clarify various aspects of the image, from the car's specifications to the event's purpose and context.\n",
      "\n",
      "STEP 3: ANSWER QUESTIONS\n",
      "\n",
      " 1. The car in the image is a Porsche 914, which is often referred to as a \"longnose\" or \"early longnose.\" It has round headlights and a long hood, which are characteristic features of this specific model of the Porsche 911.\n",
      "2. The \"TURBO 50\" sign in the image likely refers to the car's turbocharged engine and its racing performance at Le Mans in the year 1960. The term \"turbo\" would indicate a turbocharger, which is used to boost the engine's power output.\n",
      "3. The \"Lüttenberg\" marquee in the background appears to be promoting an event related to the vintage car. It's likely that \"Luftbühler 1960\" is the name of a specific performance, artist, or exhibition associated with the vintage car event.\n",
      "4. The building in the background seems to be an actual theater, as it has a marquee and appears to be part of a functioning establishment. It's not clear if this particular theater was used for promotional purposes during the 1960s or if the image is set up for an event taking place now.\n",
      "5. There are no other people or objects visible in the image that might provide additional context about the car and the event. The focus of the image is on the Porsche and its association with the theater through the \"Lüttenberg\" marquee.\n",
      "6. Yes, the setting seems to be intentionally designed to evoke nostalgia for the 1960s era, given the presence of the vintage Porsche car and the reference to Le Mans in the year 1960. This suggests that the event might celebrate the history and heritage of this iconic vehicle and its role in motorsport during that time period.\n",
      "7. The Porsche is parked on an urban street, which adds to the overall atmosphere of nostalgia and authenticity. It's not part of a larger event setup like a festival or exhibition.\n",
      "8. The car's presence outside the theater might suggest that it is being showcased as part of a promotional event related to the vintage car, or it could simply be parked there by a fan or collector.\n",
      "9. Yes, both the \"TURBO 50\" sign and the \"Luftbühler 1960\" nameplate are intentionally designed to look vintage or retro-style, which contributes to the nostalgic ambiance of the image.\n",
      "10. This is not possible without additional information or context about the event or the car itself. Further investigation would be necessary to clarify these details. \n",
      "\n"
     ]
    },
    {
     "data": {
      "text/plain": [
       "{'image_path': 'car-image.jpg',\n",
       " 'image_response': ' The image shows a vintage Porsche parked in front of a theater with the marquee \"Lüttenberg\" and a name \"Luftbühler 1960.\" Above the door, there\\'s a sign that reads \"TURBO 50\" which likely refers to a model or feature of the vehicle. The Porsche is a classic model with distinct round headlights, a long hood, and a sporty design typical of cars from the 1960s. The setting suggests a nostalgic or promotional event related to the vintage vehicle. The background shows an urban street scene with a building that resembles a theater, featuring a marquee with German text, which could indicate a German-themed venue or a performance by a German artist. ',\n",
       " 'questions': 'Here\\'s a list of questions to clarify details that need further investigation:\\n\\n1. What is the exact model and year of the vintage Porsche, considering its distinctive round headlights, long hood, and sporty design?\\n2. Can you confirm if \"TURBO 50\" refers to a specific feature or model of the vehicle, and what does it signify in this context?\\n3. Is the \"Lüttenberg\" marquee and name \"Luftbühler 1960\" related to the vintage car event, or is it promoting a performance or artist?\\n4. Can you provide more information about the building with the German-text marquee in the background? Is it an actual theater, or a prop/stage set?\\n5. Are there any other details visible in the image that might provide context, such as people, objects, or signage around the car and theater?\\n6. Is the setting intended to evoke nostalgia for the 1960s era, or is this a genuine event from that time period?\\n7. Can you confirm if the Porsche is parked on an urban street, or is it part of a larger event setup (e.g., a festival, exhibition)?\\n8. Are there any other clues in the image that might suggest the purpose of the event (e.g., car show, film premiere, concert)?\\n9. Is the \"TURBO 50\" sign and the \"Luftbühler 1960\" nameplate intentionally designed to look vintage or retro-style?\\n10. Are there any other questions or details you\\'d like to investigate further?\\n\\nThese questions aim to clarify various aspects of the image, from the car\\'s specifications to the event\\'s purpose and context.',\n",
       " 'questions_answered': ' 1. The car in the image is a Porsche 914, which is often referred to as a \"longnose\" or \"early longnose.\" It has round headlights and a long hood, which are characteristic features of this specific model of the Porsche 911.\\n2. The \"TURBO 50\" sign in the image likely refers to the car\\'s turbocharged engine and its racing performance at Le Mans in the year 1960. The term \"turbo\" would indicate a turbocharger, which is used to boost the engine\\'s power output.\\n3. The \"Lüttenberg\" marquee in the background appears to be promoting an event related to the vintage car. It\\'s likely that \"Luftbühler 1960\" is the name of a specific performance, artist, or exhibition associated with the vintage car event.\\n4. The building in the background seems to be an actual theater, as it has a marquee and appears to be part of a functioning establishment. It\\'s not clear if this particular theater was used for promotional purposes during the 1960s or if the image is set up for an event taking place now.\\n5. There are no other people or objects visible in the image that might provide additional context about the car and the event. The focus of the image is on the Porsche and its association with the theater through the \"Lüttenberg\" marquee.\\n6. Yes, the setting seems to be intentionally designed to evoke nostalgia for the 1960s era, given the presence of the vintage Porsche car and the reference to Le Mans in the year 1960. This suggests that the event might celebrate the history and heritage of this iconic vehicle and its role in motorsport during that time period.\\n7. The Porsche is parked on an urban street, which adds to the overall atmosphere of nostalgia and authenticity. It\\'s not part of a larger event setup like a festival or exhibition.\\n8. The car\\'s presence outside the theater might suggest that it is being showcased as part of a promotional event related to the vintage car, or it could simply be parked there by a fan or collector.\\n9. Yes, both the \"TURBO 50\" sign and the \"Luftbühler 1960\" nameplate are intentionally designed to look vintage or retro-style, which contributes to the nostalgic ambiance of the image.\\n10. This is not possible without additional information or context about the event or the car itself. Further investigation would be necessary to clarify these details. '}"
      ]
     },
     "execution_count": 9,
     "metadata": {},
     "output_type": "execute_result"
    }
   ],
   "source": [
    "app.invoke({\"image_path\": \"car-image.jpg\"})"
   ]
  },
  {
   "cell_type": "code",
   "execution_count": null,
   "id": "64b8bafa",
   "metadata": {},
   "outputs": [],
   "source": []
  },
  {
   "cell_type": "code",
   "execution_count": null,
   "id": "ee2a53ca",
   "metadata": {},
   "outputs": [],
   "source": []
  }
 ],
 "metadata": {
  "kernelspec": {
   "display_name": "Python 3 (ipykernel)",
   "language": "python",
   "name": "python3"
  },
  "language_info": {
   "codemirror_mode": {
    "name": "ipython",
    "version": 3
   },
   "file_extension": ".py",
   "mimetype": "text/x-python",
   "name": "python",
   "nbconvert_exporter": "python",
   "pygments_lexer": "ipython3",
   "version": "3.11.2"
  }
 },
 "nbformat": 4,
 "nbformat_minor": 5
}
